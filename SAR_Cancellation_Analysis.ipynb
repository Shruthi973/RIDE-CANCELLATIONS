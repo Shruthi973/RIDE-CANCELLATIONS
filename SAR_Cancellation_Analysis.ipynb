{
 "cells": [
  {
   "cell_type": "markdown",
   "id": "fb35c0b8",
   "metadata": {},
   "source": [
    "# SAR Rental Cancellation Prediction\n",
    "This machine learning project focuses on predicting car rental cancellations based on booking behavior, travel patterns, and time-related trends. The objective is to identify high-risk bookings early and enable targeted interventions. We explore Logistic Regression and Random Forest models to derive actionable insights."
   ]
  },
  {
   "cell_type": "code",
   "execution_count": null,
   "id": "4dd1ddca",
   "metadata": {},
   "outputs": [],
   "source": [
    "import pandas as pd\n",
    "import numpy as np\n",
    "import matplotlib.pyplot as plt\n",
    "import seaborn as sns\n",
    "from sklearn.model_selection import train_test_split\n",
    "from sklearn.linear_model import LogisticRegression\n",
    "from sklearn.ensemble import RandomForestClassifier\n",
    "from sklearn.metrics import classification_report, confusion_matrix, accuracy_score\n",
    "\n",
    "# Load dataset\n",
    "df = pd.read_csv('SAR_Cleaned_Median.csv')\n",
    "df.head()"
   ]
  },
  {
   "cell_type": "markdown",
   "id": "733402db",
   "metadata": {},
   "source": [
    "## Step 1: Data Preparation"
   ]
  },
  {
   "cell_type": "code",
   "execution_count": null,
   "id": "15146bff",
   "metadata": {},
   "outputs": [],
   "source": [
    "# Check nulls and shape\n",
    "print(df.shape)\n",
    "print(df.isnull().sum())\n",
    "\n",
    "# Separate features and target\n",
    "X = df.drop(columns=['Car_Cancellation'])\n",
    "y = df['Car_Cancellation']\n",
    "\n",
    "# Train-test split\n",
    "X_train, X_test, y_train, y_test = train_test_split(X, y, test_size=0.2, random_state=42)"
   ]
  },
  {
   "cell_type": "markdown",
   "id": "b835fd19",
   "metadata": {},
   "source": [
    "## Step 2: Logistic Regression Model"
   ]
  },
  {
   "cell_type": "code",
   "execution_count": null,
   "id": "2252c00b",
   "metadata": {},
   "outputs": [],
   "source": [
    "log_model = LogisticRegression(max_iter=1000)\n",
    "log_model.fit(X_train, y_train)\n",
    "y_pred_log = log_model.predict(X_test)\n",
    "\n",
    "print('Logistic Regression Performance:')\n",
    "print(confusion_matrix(y_test, y_pred_log))\n",
    "print(classification_report(y_test, y_pred_log))"
   ]
  },
  {
   "cell_type": "markdown",
   "id": "c1de82e6",
   "metadata": {},
   "source": [
    "## Step 3: Random Forest Model"
   ]
  },
  {
   "cell_type": "code",
   "execution_count": null,
   "id": "ef3924ab",
   "metadata": {},
   "outputs": [],
   "source": [
    "rf_model = RandomForestClassifier(n_estimators=100, random_state=42)\n",
    "rf_model.fit(X_train, y_train)\n",
    "y_pred_rf = rf_model.predict(X_test)\n",
    "\n",
    "print('Random Forest Performance:')\n",
    "print(confusion_matrix(y_test, y_pred_rf))\n",
    "print(classification_report(y_test, y_pred_rf))\n",
    "\n",
    "# Feature Importance\n",
    "feat_imp = pd.Series(rf_model.feature_importances_, index=X.columns)\n",
    "feat_imp.nlargest(10).plot(kind='barh', title='Top 10 Important Features')\n",
    "plt.xlabel('Importance')\n",
    "plt.show()"
   ]
  },
  {
   "cell_type": "markdown",
   "id": "6162e368",
   "metadata": {},
   "source": [
    "## Step 4: Conclusion & Business Insights\n",
    "- **Random Forest** performed slightly better than Logistic Regression due to its ability to model non-linear relationships.\n",
    "- Key features affecting cancellations include **distance**, **booking timing**, and **package type**.\n",
    "- These insights can be used by SAR Rentals to:\n",
    "   - Flag risky bookings for review or verification.\n",
    "   - Offer dynamic pricing or promotions for high-risk cases.\n",
    "   - Improve customer segmentation and retention strategies.\n",
    "\n",
    "Future enhancements may include:\n",
    "- Trying advanced models like XGBoost.\n",
    "- Handling imbalance with techniques like SMOTE.\n",
    "- Adding time-of-day and holiday effects.\n",
    "- Deploying model via real-time APIs.\n"
   ]
  }
 ],
 "metadata": {},
 "nbformat": 4,
 "nbformat_minor": 5
}
