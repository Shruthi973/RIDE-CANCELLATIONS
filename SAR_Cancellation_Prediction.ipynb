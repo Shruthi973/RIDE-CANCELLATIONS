{
 "cells": [
  {
   "cell_type": "markdown",
   "id": "966d0e63",
   "metadata": {},
   "source": [
    "# SAR Rental Car Cancellation Prediction\n",
    "\n",
    "This notebook replicates analysis previously done in R using Python. It covers:\n",
    "- Data Cleaning\n",
    "- Feature Engineering\n",
    "- Modeling (Logistic Regression, Random Forest)\n",
    "- Evaluation and Insights"
   ]
  },
  {
   "cell_type": "code",
   "execution_count": null,
   "id": "f87734b1",
   "metadata": {},
   "outputs": [],
   "source": [
    "import pandas as pd\n",
    "import numpy as np\n",
    "import matplotlib.pyplot as plt\n",
    "import seaborn as sns\n",
    "\n",
    "from sklearn.model_selection import train_test_split\n",
    "from sklearn.linear_model import LogisticRegression\n",
    "from sklearn.ensemble import RandomForestClassifier\n",
    "from sklearn.metrics import classification_report, confusion_matrix, accuracy_score\n",
    "\n",
    "# Load cleaned dataset\n",
    "df = pd.read_csv(\"SAR_Cleaned_Median.csv\")\n",
    "df.head()"
   ]
  },
  {
   "cell_type": "markdown",
   "id": "7f179f66",
   "metadata": {},
   "source": [
    "## Data Preparation"
   ]
  },
  {
   "cell_type": "code",
   "execution_count": null,
   "id": "1d66b364",
   "metadata": {},
   "outputs": [],
   "source": [
    "# Drop columns with low variance or non-useful identifiers if any\n",
    "X = df.drop(columns=[\"Car_Cancellation\"])\n",
    "y = df[\"Car_Cancellation\"]\n",
    "\n",
    "# Train-test split\n",
    "X_train, X_test, y_train, y_test = train_test_split(X, y, test_size=0.2, random_state=42)\n"
   ]
  },
  {
   "cell_type": "markdown",
   "id": "9bb8b503",
   "metadata": {},
   "source": [
    "## Logistic Regression"
   ]
  },
  {
   "cell_type": "code",
   "execution_count": null,
   "id": "fcbb758e",
   "metadata": {},
   "outputs": [],
   "source": [
    "log_reg = LogisticRegression(max_iter=1000)\n",
    "log_reg.fit(X_train, y_train)\n",
    "y_pred_log = log_reg.predict(X_test)\n",
    "\n",
    "print(\"Classification Report - Logistic Regression\")\n",
    "print(classification_report(y_test, y_pred_log))"
   ]
  },
  {
   "cell_type": "markdown",
   "id": "7cd37684",
   "metadata": {},
   "source": [
    "## Random Forest Classifier"
   ]
  },
  {
   "cell_type": "code",
   "execution_count": null,
   "id": "aff72823",
   "metadata": {},
   "outputs": [],
   "source": [
    "rf = RandomForestClassifier(n_estimators=100, random_state=42)\n",
    "rf.fit(X_train, y_train)\n",
    "y_pred_rf = rf.predict(X_test)\n",
    "\n",
    "print(\"Classification Report - Random Forest\")\n",
    "print(classification_report(y_test, y_pred_rf))\n",
    "\n",
    "# Feature importance\n",
    "importances = pd.Series(rf.feature_importances_, index=X.columns)\n",
    "importances.nlargest(10).plot(kind='barh', title='Top 10 Feature Importances')\n",
    "plt.xlabel(\"Importance Score\")\n",
    "plt.tight_layout()\n",
    "plt.show()"
   ]
  },
  {
   "cell_type": "markdown",
   "id": "943547de",
   "metadata": {},
   "source": [
    "## Conclusion\n",
    "- Random Forest performed well with clear interpretability.\n",
    "- Distance, booking type, and time-based features were key drivers of cancellations.\n",
    "- This notebook provides an interpretable baseline for modeling rental behavior."
   ]
  }
 ],
 "metadata": {},
 "nbformat": 4,
 "nbformat_minor": 5
}
