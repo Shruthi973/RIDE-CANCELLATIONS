{
 "cells": [
  {
   "cell_type": "markdown",
   "id": "6e0a4188",
   "metadata": {},
   "source": [
    "# SAR Rental Cancellation Prediction – Fully Explained\n",
    "\n",
    "This project aims to predict rental car cancellations using user behavior, booking patterns, and geospatial data."
   ]
  },
  {
   "cell_type": "markdown",
   "id": "36f9e882",
   "metadata": {},
   "source": [
    "## Step 1: Import Required Libraries"
   ]
  },
  {
   "cell_type": "code",
   "execution_count": null,
   "id": "6c6154e3",
   "metadata": {},
   "outputs": [],
   "source": [
    "# Import essential libraries for data handling, modeling, and visualization\n",
    "import pandas as pd\n",
    "import numpy as np\n",
    "import matplotlib.pyplot as plt\n",
    "import seaborn as sns\n",
    "\n",
    "# Modeling\n",
    "from sklearn.model_selection import train_test_split\n",
    "from sklearn.linear_model import LogisticRegression\n",
    "from sklearn.ensemble import RandomForestClassifier\n",
    "from sklearn.metrics import classification_report, confusion_matrix, accuracy_score\n",
    "\n",
    "# Load cleaned dataset\n",
    "df = pd.read_csv(\"SAR_Cleaned_Median.csv\")  # Replace with your dataset if different\n",
    "df.head()"
   ]
  },
  {
   "cell_type": "markdown",
   "id": "b0e51bb9",
   "metadata": {},
   "source": [
    "## Step 2: Understand the Dataset"
   ]
  },
  {
   "cell_type": "code",
   "execution_count": null,
   "id": "f2f8be7b",
   "metadata": {},
   "outputs": [],
   "source": [
    "# Check the shape and overview\n",
    "print(\"Dataset Shape:\", df.shape)\n",
    "df.info()\n",
    "df.describe()"
   ]
  },
  {
   "cell_type": "markdown",
   "id": "09625f6c",
   "metadata": {},
   "source": [
    "## Step 3: Feature Description"
   ]
  },
  {
   "cell_type": "markdown",
   "id": "18d0e30e",
   "metadata": {},
   "source": [
    "\n",
    "- `trip_distance_km`: Computed using the Haversine formula between pickup and drop-off locations.\n",
    "- `booking_type`, `package_type`: Categorical predictors affecting booking reliability.\n",
    "- `booking_created`, `from_date`, `to_date`: Used to derive timing features (booking gap, urgency).\n",
    "- `Car_Cancellation`: Target variable.\n"
   ]
  },
  {
   "cell_type": "markdown",
   "id": "0f855ca1",
   "metadata": {},
   "source": [
    "## Step 4: Preprocessing"
   ]
  },
  {
   "cell_type": "code",
   "execution_count": null,
   "id": "6a7f0546",
   "metadata": {},
   "outputs": [],
   "source": [
    "# Separate features (X) and target (y)\n",
    "X = df.drop(columns=[\"Car_Cancellation\"])  # Replace with your actual target column\n",
    "y = df[\"Car_Cancellation\"]\n",
    "\n",
    "# Split into training and testing sets\n",
    "X_train, X_test, y_train, y_test = train_test_split(X, y, test_size=0.2, random_state=42)"
   ]
  },
  {
   "cell_type": "markdown",
   "id": "b7a2dac2",
   "metadata": {},
   "source": [
    "## Step 5: Logistic Regression"
   ]
  },
  {
   "cell_type": "code",
   "execution_count": null,
   "id": "2e0b9b19",
   "metadata": {},
   "outputs": [],
   "source": [
    "# Initialize and train logistic regression\n",
    "log_reg = LogisticRegression(max_iter=1000)\n",
    "log_reg.fit(X_train, y_train)\n",
    "\n",
    "# Make predictions\n",
    "y_pred_log = log_reg.predict(X_test)\n",
    "\n",
    "# Evaluate the model\n",
    "print(\"Classification Report - Logistic Regression\")\n",
    "print(classification_report(y_test, y_pred_log))"
   ]
  },
  {
   "cell_type": "markdown",
   "id": "b56d152a",
   "metadata": {},
   "source": [
    "## Step 6: Random Forest Classifier"
   ]
  },
  {
   "cell_type": "code",
   "execution_count": null,
   "id": "5e6b81dc",
   "metadata": {},
   "outputs": [],
   "source": [
    "# Train Random Forest model\n",
    "rf = RandomForestClassifier(n_estimators=100, random_state=42)\n",
    "rf.fit(X_train, y_train)\n",
    "\n",
    "# Predict and evaluate\n",
    "y_pred_rf = rf.predict(X_test)\n",
    "print(\"Classification Report - Random Forest\")\n",
    "print(classification_report(y_test, y_pred_rf))\n",
    "\n",
    "# Feature importance plot\n",
    "importances = pd.Series(rf.feature_importances_, index=X.columns)\n",
    "importances.nlargest(10).plot(kind='barh', title='Top 10 Important Features')\n",
    "plt.xlabel(\"Importance Score\")\n",
    "plt.tight_layout()\n",
    "plt.show()"
   ]
  },
  {
   "cell_type": "markdown",
   "id": "664cec8a",
   "metadata": {},
   "source": [
    "## Step 7: Conclusion & Next Steps\n",
    "- Evaluate patterns.\n",
    "- Improve features or try boosting algorithms like XGBoost.\n",
    "- Add more domain-specific variables."
   ]
  }
 ],
 "metadata": {},
 "nbformat": 4,
 "nbformat_minor": 5
}
